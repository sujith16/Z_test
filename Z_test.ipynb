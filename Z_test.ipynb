{
  "nbformat": 4,
  "nbformat_minor": 0,
  "metadata": {
    "colab": {
      "provenance": []
    },
    "kernelspec": {
      "name": "python3",
      "display_name": "Python 3"
    },
    "language_info": {
      "name": "python"
    }
  },
  "cells": [
    {
      "cell_type": "code",
      "execution_count": 4,
      "metadata": {
        "colab": {
          "base_uri": "https://localhost:8080/"
        },
        "id": "Ja0xf__jJQyh",
        "outputId": "f9cd44b9-f47d-490b-f613-02f4acfec038"
      },
      "outputs": [
        {
          "output_type": "stream",
          "name": "stdout",
          "text": [
            "mean=309.88 stdv=1.87\n",
            "Reject Null Hypothesis\n"
          ]
        }
      ],
      "source": [
        "\n",
        "# imports\n",
        "import math\n",
        "import numpy as np\n",
        "from numpy.random import randn\n",
        "from statsmodels.stats.weightstats import ztest\n",
        "\n",
        "# Generate a random array of 50 numbers having mean 110 and sd 15\n",
        "# similar to the IQ scores data we assume above\n",
        "mean_iq = 310\n",
        "sd_iq = 15/math.sqrt(50)\n",
        "alpha =0.05\n",
        "null_mean =40\n",
        "data = sd_iq*randn(50)+mean_iq\n",
        "# print mean and sd\n",
        "print('mean=%.2f stdv=%.2f' % (np.mean(data), np.std(data)))\n",
        "\n",
        "# now we perform the test. In this function, we passed data, in the value parameter\n",
        "# we passed mean value in the null hypothesis, in alternative hypothesis we check whether the\n",
        "# mean is larger\n",
        "\n",
        "ztest_Score, p_value= ztest(data,value = null_mean, alternative='larger')\n",
        "# the function outputs a p_value and z-score corresponding to that value, we compare the\n",
        "# p-value with alpha, if it is greater than alpha then we do not null hypothesis\n",
        "# else we reject it.\n",
        "\n",
        "if(p_value < alpha):\n",
        "  print(\"Reject Null Hypothesis\")\n",
        "else:\n",
        "  print(\"Fail to Reject NUll Hypothesis\")\n"
      ]
    },
    {
      "cell_type": "code",
      "source": [
        "from statsmodels.stats.weightstats import ztest as ztest\n",
        "\n",
        "#enter IQ levels for 20 individuals from each city\n",
        "cityA = [82, 84, 85, 89, 91, 91, 92, 94, 99, 99,\n",
        "         105, 109, 109, 109, 110, 112, 112, 113, 114, 114]\n",
        "\n",
        "cityB = [90, 91, 91, 91, 95, 95, 99, 99, 108, 109,\n",
        "         109, 114, 115, 116, 117, 117, 128, 129, 130, 133]\n",
        "\n",
        "#perform two sample z-test\n",
        "ztest_Score, p_value=ztest(cityA, cityB, value=0)\n",
        "if(p_value < alpha):\n",
        "  print(\"Reject Null Hypothesis\")\n",
        "else:\n",
        "  print(\"Fail to Reject NUll Hypothesis\")"
      ],
      "metadata": {
        "colab": {
          "base_uri": "https://localhost:8080/"
        },
        "id": "U5s19v36Jzwb",
        "outputId": "19fbed82-71f2-42e6-958f-a6bc6d86537c"
      },
      "execution_count": 7,
      "outputs": [
        {
          "output_type": "stream",
          "name": "stdout",
          "text": [
            "Reject Null Hypothesis\n"
          ]
        }
      ]
    },
    {
      "cell_type": "code",
      "source": [
        "#enter IQ levels for 20 patients\n",
        "data = [88, 92, 94, 94, 96, 97, 97, 97, 99, 99,\n",
        "        105, 109, 109, 109, 110, 112, 112, 113, 114, 115]\n",
        "\n",
        "#perform one sample z-test\n",
        "ztest_Score, p_value=ztest(data, value=100)\n",
        "if(p_value < alpha):\n",
        "  print(\"Reject Null Hypothesis\")\n",
        "else:\n",
        "  print(\"Fail to Reject NUll Hypothesis\")"
      ],
      "metadata": {
        "colab": {
          "base_uri": "https://localhost:8080/"
        },
        "id": "HSwOS9NmL2G8",
        "outputId": "b5c72b04-18ca-4d9c-ac76-576d937e05d5"
      },
      "execution_count": 8,
      "outputs": [
        {
          "output_type": "stream",
          "name": "stdout",
          "text": [
            "Fail to Reject NUll Hypothesis\n"
          ]
        }
      ]
    },
    {
      "cell_type": "code",
      "source": [],
      "metadata": {
        "id": "ZvTgea5PMO-0"
      },
      "execution_count": null,
      "outputs": []
    }
  ]
}